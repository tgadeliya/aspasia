{
 "cells": [
  {
   "cell_type": "code",
   "execution_count": 1,
   "id": "8bc97bad",
   "metadata": {},
   "outputs": [],
   "source": [
    "%load_ext autoreload\n",
    "%autoreload 2"
   ]
  },
  {
   "cell_type": "code",
   "execution_count": 4,
   "id": "0937352b",
   "metadata": {},
   "outputs": [],
   "source": [
    "from aspasia.datasets import QuALITY\n",
    "from pathlib import Path"
   ]
  },
  {
   "cell_type": "code",
   "execution_count": 9,
   "id": "0c82baf6",
   "metadata": {},
   "outputs": [],
   "source": [
    "dataset = QuALITY(data_dir=Path(\"/Users/tsimur.hadeliya/code/aspasia/data\"))\n",
    "dataset.prepare_datasets()"
   ]
  },
  {
   "cell_type": "code",
   "execution_count": null,
   "id": "5914580c",
   "metadata": {},
   "outputs": [],
   "source": []
  },
  {
   "cell_type": "code",
   "execution_count": 10,
   "id": "beec974f",
   "metadata": {},
   "outputs": [],
   "source": [
    "sample = dataset.split[\"train\"][0].to_sample()"
   ]
  },
  {
   "cell_type": "code",
   "execution_count": 11,
   "id": "b5605a16",
   "metadata": {},
   "outputs": [
    {
     "data": {
      "text/plain": [
       "{'gold': 'He fears the end of the Space Exploration program, and for mankind’s research of space to come to an end.',\n",
       " 'best_distractor': 'He doesn’t want to have to go through the effort of training a new spaceman, as it’s very costly and time consuming.'}"
      ]
     },
     "execution_count": 11,
     "metadata": {},
     "output_type": "execute_result"
    }
   ],
   "source": [
    "sample.metadata[\"answers\"]"
   ]
  },
  {
   "cell_type": "code",
   "execution_count": 12,
   "id": "c015965e",
   "metadata": {},
   "outputs": [
    {
     "data": {
      "text/plain": [
       "['He doesn’t want to have to go through the effort of training a new spaceman, as it’s very costly and time consuming.',\n",
       " 'He fears the end of the Space Exploration program, and for mankind’s research of space to come to an end.']"
      ]
     },
     "execution_count": 12,
     "metadata": {},
     "output_type": "execute_result"
    }
   ],
   "source": [
    "sample.choices"
   ]
  },
  {
   "cell_type": "code",
   "execution_count": 15,
   "id": "495d66d9",
   "metadata": {},
   "outputs": [
    {
     "data": {
      "text/plain": [
       "'What is the main reason that Gubelin is so resentful of Si’s decision?'"
      ]
     },
     "execution_count": 15,
     "metadata": {},
     "output_type": "execute_result"
    }
   ],
   "source": [
    "sample.input"
   ]
  },
  {
   "cell_type": "code",
   "execution_count": null,
   "id": "01f59eff",
   "metadata": {},
   "outputs": [],
   "source": []
  }
 ],
 "metadata": {
  "kernelspec": {
   "display_name": "aspasia",
   "language": "python",
   "name": "python3"
  },
  "language_info": {
   "codemirror_mode": {
    "name": "ipython",
    "version": 3
   },
   "file_extension": ".py",
   "mimetype": "text/x-python",
   "name": "python",
   "nbconvert_exporter": "python",
   "pygments_lexer": "ipython3",
   "version": "3.13.3"
  }
 },
 "nbformat": 4,
 "nbformat_minor": 5
}
